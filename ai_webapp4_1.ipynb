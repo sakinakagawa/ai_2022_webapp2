{
  "nbformat": 4,
  "nbformat_minor": 0,
  "metadata": {
    "colab": {
      "provenance": [],
      "authorship_tag": "ABX9TyOzk4W9oRGUkXlKL88yBmeI",
      "include_colab_link": true
    },
    "kernelspec": {
      "name": "python3",
      "display_name": "Python 3"
    },
    "language_info": {
      "name": "python"
    },
    "accelerator": "GPU",
    "gpuClass": "standard"
  },
  "cells": [
    {
      "cell_type": "markdown",
      "metadata": {
        "id": "view-in-github",
        "colab_type": "text"
      },
      "source": [
        "<a href=\"https://colab.research.google.com/github/sakinakagawa/ai_2022_webapp2/blob/main/ai_webapp4_1.ipynb\" target=\"_parent\"><img src=\"https://colab.research.google.com/assets/colab-badge.svg\" alt=\"Open In Colab\"/></a>"
      ]
    },
    {
      "cell_type": "markdown",
      "source": [
        "# **有名女優4人のうち、あなたは誰に一番似ているか判定するアプリ**\n",
        "有名女優である石原さとみ、新垣結衣、北川景子、小松菜奈のうちあなたは誰に一番似ているか判定します。"
      ],
      "metadata": {
        "id": "TycP8BTQfHIa"
      }
    },
    {
      "cell_type": "markdown",
      "source": [
        "(1)石原さとみ、新垣結衣、北川景子、小松菜奈の画像を集めます。"
      ],
      "metadata": {
        "id": "Tmhh1F6heuhk"
      }
    },
    {
      "cell_type": "code",
      "execution_count": null,
      "metadata": {
        "id": "dk39HKZ4cqgp"
      },
      "outputs": [],
      "source": [
        "!pip install icrawler\n",
        "\n",
        "from icrawler.builtin import BingImageCrawler\n",
        "\n",
        "# ①石原さとみ×100\n",
        "crawler = BingImageCrawler(storage={\"root_dir\": \"石原さとみ\"})\n",
        "crawler.crawl(keyword=\"石原さとみ\", max_num=100)\n",
        "\n",
        "from icrawler.builtin import BingImageCrawler\n",
        "\n",
        "# ②新垣結衣×100\n",
        "crawler = BingImageCrawler(storage={\"root_dir\": \"新垣結衣\"})\n",
        "crawler.crawl(keyword=\"新垣結衣\", max_num=100)\n",
        "\n",
        "from icrawler.builtin import BingImageCrawler\n",
        "\n",
        "# ⑤北川景子×100\n",
        "crawler = BingImageCrawler(storage={\"root_dir\": \"北川景子\"})\n",
        "crawler.crawl(keyword=\"北川景子\", max_num=100)\n",
        "\n",
        "from icrawler.builtin import BingImageCrawler\n",
        "\n",
        "# ⑥小松菜奈×100\n",
        "crawler = BingImageCrawler(storage={\"root_dir\": \"小松菜奈\"})\n",
        "crawler.crawl(keyword=\"小松菜奈\", max_num=100)"
      ]
    },
    {
      "cell_type": "markdown",
      "source": [
        "(2)「女優.npy」というファイル名でデータセットを作成します。"
      ],
      "metadata": {
        "id": "LEM1eBFNgFCL"
      }
    },
    {
      "cell_type": "code",
      "source": [
        "from PIL import Image\n",
        "import os, glob\n",
        "import numpy as np\n",
        "from PIL import ImageFile\n",
        "ImageFile.LOAD_TRUNCATED_IMAGES = True\n",
        "\n",
        "classes = [\"石原さとみ\", \"新垣結衣\", \"北川景子\", \"小松菜奈\"]\n",
        "num_classes = len(classes)\n",
        "image_size = 64\n",
        "num_testdata = 25\n",
        "\n",
        "X_train = []\n",
        "X_test  = []\n",
        "y_train = []\n",
        "y_test  = []\n",
        "\n",
        "for index, classlabel in enumerate(classes):\n",
        "    photos_dir = \"./\" + classlabel\n",
        "    files = glob.glob(photos_dir + \"/*.jpg\")\n",
        "    for i, file in enumerate(files):\n",
        "        image = Image.open(file)\n",
        "        image = image.convert(\"RGB\")\n",
        "        image = image.resize((image_size, image_size))\n",
        "        data = np.asarray(image)\n",
        "        if i < num_testdata:\n",
        "            X_test.append(data)\n",
        "            y_test.append(index)\n",
        "        else:\n",
        "\n",
        "            for angle in range(-20, 20, 5):\n",
        "\n",
        "                img_r = image.rotate(angle)\n",
        "                data = np.asarray(img_r)\n",
        "                X_train.append(data)\n",
        "                y_train.append(index)\n",
        "                img_trains = img_r.transpose(Image.FLIP_LEFT_RIGHT)\n",
        "                data = np.asarray(img_trains)\n",
        "                X_train.append(data)\n",
        "                y_train.append(index)\n",
        "\n",
        "X_train = np.array(X_train)\n",
        "X_test  = np.array(X_test)\n",
        "y_train = np.array(y_train)\n",
        "y_test  = np.array(y_test)\n",
        "\n",
        "xy = (X_train, X_test, y_train, y_test)\n",
        "np.save(\"./女優.npy\", xy)"
      ],
      "metadata": {
        "id": "V57nER4Wcxma"
      },
      "execution_count": null,
      "outputs": []
    },
    {
      "cell_type": "markdown",
      "source": [
        "→「ai_webapp4_2.ipynb」に続きます。"
      ],
      "metadata": {
        "id": "e4qxIAzGhJWx"
      }
    }
  ]
}