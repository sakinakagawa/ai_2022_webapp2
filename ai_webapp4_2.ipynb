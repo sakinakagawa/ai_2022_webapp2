{
  "nbformat": 4,
  "nbformat_minor": 0,
  "metadata": {
    "colab": {
      "provenance": [],
      "include_colab_link": true
    },
    "kernelspec": {
      "name": "python3",
      "display_name": "Python 3"
    },
    "language_info": {
      "name": "python"
    },
    "gpuClass": "standard",
    "accelerator": "GPU"
  },
  "cells": [
    {
      "cell_type": "markdown",
      "metadata": {
        "id": "view-in-github",
        "colab_type": "text"
      },
      "source": [
        "<a href=\"https://colab.research.google.com/github/sakinakagawa/ai_2022_webapp2/blob/main/ai_webapp4_2.ipynb\" target=\"_parent\"><img src=\"https://colab.research.google.com/assets/colab-badge.svg\" alt=\"Open In Colab\"/></a>"
      ]
    },
    {
      "cell_type": "markdown",
      "source": [
        "# **有名女優4人のうち、あなたは誰に一番似ているか判定するアプリ**\n",
        "有名女優である石原さとみ、新垣結衣、北川景子、小松菜奈のうちあなたは誰に一番似ているか判定します。\n",
        "\n",
        "「ai_webapp4_1.ipynb」の続きとなります。"
      ],
      "metadata": {
        "id": "6EA45sMRhvuF"
      }
    },
    {
      "cell_type": "markdown",
      "source": [
        "(3)「ai_webapp4_1.ipynb」で作成したファイル「女優.npy」、もしくはGitHubのレポジトリ「ai_2022_webapp2」内のファイル「女優.npy」をアップロードします。\n",
        "\n",
        "そして下のプログラムを実行して機械学習を行います。"
      ],
      "metadata": {
        "id": "2g31LoJSiMSP"
      }
    },
    {
      "cell_type": "code",
      "source": [
        "from keras.models import Sequential\n",
        "from keras.layers import Conv2D, MaxPooling2D\n",
        "from keras.layers import Activation, Dropout, Flatten, Dense\n",
        "from keras.optimizers import RMSprop \n",
        "\n",
        "\n",
        "\n",
        "from keras.utils import np_utils\n",
        "import keras\n",
        "import numpy as np\n",
        "\n",
        "classes = [\"石原さとみ\", \"新垣結衣\", \"北川景子\", \"小松菜奈\"]\n",
        "num_classes = len(classes)\n",
        "image_size = 64\n",
        "\n",
        "\n",
        "def load_data():\n",
        "    X_train, X_test, y_train, y_test = np.load(\"./女優.npy\", allow_pickle=True)\n",
        "    X_train = X_train.astype(\"float\") / 255\n",
        "    X_test  = X_test.astype(\"float\") / 255\n",
        "    y_train = np_utils.to_categorical(y_train, num_classes)\n",
        "    y_test  = np_utils.to_categorical(y_test, num_classes)\n",
        "\n",
        "    return X_train, y_train, X_test, y_test\n",
        "\n",
        "\n",
        "def train(X, y, X_test, y_test):\n",
        "    model = Sequential()\n",
        "\n",
        "\n",
        "    model.add(Conv2D(32,(3,3), padding='same',input_shape=X.shape[1:]))\n",
        "    model.add(Activation('relu'))\n",
        "    model.add(Conv2D(32,(3,3)))\n",
        "    model.add(Activation('relu'))\n",
        "    model.add(MaxPooling2D(pool_size=(2,2)))\n",
        "    model.add(Dropout(0.1))\n",
        "\n",
        "    model.add(Conv2D(64,(3,3), padding='same'))\n",
        "    model.add(Activation('relu'))\n",
        "    model.add(Conv2D(64,(3,3)))\n",
        "    model.add(Activation('relu'))\n",
        "    model.add(MaxPooling2D(pool_size=(2,2)))\n",
        "    model.add(Dropout(0.25))\n",
        "\n",
        "    model.add(Flatten())\n",
        "    model.add(Dense(512))\n",
        "    model.add(Activation('relu'))\n",
        "    model.add(Dropout(0.45))\n",
        "    model.add(Dense(4)) \n",
        "    model.add(Activation('softmax'))\n",
        "\n",
        "    opt = RMSprop(lr=0.00005, decay=1e-6)\n",
        "    model.compile(loss='categorical_crossentropy',optimizer=opt,metrics=['accuracy'])\n",
        "    model.fit(X, y, batch_size=28, epochs=40)\n",
        "    model.save('./cnn.h5')\n",
        "\n",
        "    return model\n",
        "\n",
        "def main():\n",
        "    X_train, y_train, X_test, y_test = load_data()\n",
        "\n",
        "    model = train(X_train, y_train, X_test, y_test)\n",
        "\n",
        "main()"
      ],
      "metadata": {
        "id": "bs9r88xIhOIg"
      },
      "execution_count": null,
      "outputs": []
    },
    {
      "cell_type": "markdown",
      "source": [
        "(4)パソコンの内蔵カメラを起動する準備をします。"
      ],
      "metadata": {
        "id": "vT4cBFzKkBSW"
      }
    },
    {
      "cell_type": "code",
      "source": [
        "from IPython.display import display, Javascript\n",
        "from google.colab.output import eval_js\n",
        "from base64 import b64decode\n",
        "\n",
        "def take_photo(filename='photo.jpg', quality=0.8):\n",
        "  js = Javascript('''\n",
        "    async function takePhoto(quality) {\n",
        "      const div = document.createElement(\"div\");\n",
        "      const capture = document.createElement(\"button\");\n",
        "      capture.textContent = \"写真を撮る\";\n",
        "      div.appendChild(capture);\n",
        "\n",
        "      const video = document.createElement(\"video\");\n",
        "      video.style.display = \"block\";\n",
        "      const stream = await navigator.mediaDevices.getUserMedia({video: true});\n",
        "\n",
        "      document.body.appendChild(div);\n",
        "      div.appendChild(video);\n",
        "      video.srcObject = stream;\n",
        "      await video.play();\n",
        "\n",
        "      google.colab.output.setIframeHeight(document.documentElement.scrollHeight, true);\n",
        "\n",
        "      await new Promise((resolve) => capture.onclick = resolve);\n",
        "\n",
        "      const canvas = document.createElement(\"canvas\");\n",
        "      canvas.width = video.videoWidth;\n",
        "      canvas.height = video.videoHeight;\n",
        "      canvas.getContext(\"2d\").drawImage(video, 0, 0);\n",
        "      stream.getVideoTracks()[0].stop();\n",
        "      div.remove();\n",
        "      return canvas.toDataURL(\"image/jpeg\", quality);\n",
        "    }\n",
        "    ''')\n",
        "  display(js)\n",
        "  data = eval_js('takePhoto({})'.format(quality))\n",
        "  binary = b64decode(data.split(',')[1])\n",
        "  with open(filename, \"wb\") as f:\n",
        "    f.write(binary)\n",
        "  return filename"
      ],
      "metadata": {
        "id": "726k0wVxbkfu"
      },
      "execution_count": 6,
      "outputs": []
    },
    {
      "cell_type": "markdown",
      "source": [
        "(5)下のプログラムを実行します。「写真を撮る」というボタンを押して自分の顔の写真を撮りましょう。"
      ],
      "metadata": {
        "id": "A3UdwcQYkSS3"
      }
    },
    {
      "cell_type": "code",
      "source": [
        "from IPython.display import Image\n",
        "try:\n",
        "  filename = take_photo()\n",
        "  print(\"Saved to {}\".format(filename))\n",
        "  \n",
        "  # Show the image which was just taken.\n",
        "  display(Image(filename))\n",
        "except Exception as err:\n",
        "  # Errors will be thrown if the user does not have a webcam or if they do not\n",
        "  # grant the page permission to access it.\n",
        "  print(str(err))"
      ],
      "metadata": {
        "id": "nVuKh8VNbkfx"
      },
      "execution_count": null,
      "outputs": []
    },
    {
      "cell_type": "markdown",
      "source": [
        "(6)まずGitHubのレポジトリ「ai_2022_webapp2」内のファイル「石原さとみ.jpg」「新垣結衣.jpg」「北川景子.jpg」「小松菜奈.jpg」をアップロードします。\n",
        "\n",
        "その後下のプログラムを実行すると、先ほど撮影した写真を参考に、あなたが石原さとみ、新垣結衣、北川景子、小松菜奈の4人のうちだれに一番似ているか判定します。"
      ],
      "metadata": {
        "id": "QGb9soWxlC4G"
      }
    },
    {
      "cell_type": "code",
      "source": [
        "%matplotlib inline\n",
        "\n",
        "import matplotlib.pyplot as plt\n",
        "import matplotlib.image as mpimg\n",
        "import keras\n",
        "import sys, os\n",
        "import numpy as np\n",
        "from PIL import Image\n",
        "from keras.models import load_model\n",
        "\n",
        "imsize = (64, 64)\n",
        "\n",
        "testpic     = \"./photo.jpg\"\n",
        "keras_param = \"./cnn.h5\"\n",
        "\n",
        "def load_image(path):\n",
        "    img = Image.open(path)\n",
        "    img = img.convert('RGB')\n",
        "    img = img.resize(imsize)\n",
        "    img = np.asarray(img)\n",
        "    img = img / 255.0\n",
        "    return img\n",
        "\n",
        "model = load_model(keras_param)\n",
        "img = load_image(testpic)\n",
        "prd = model.predict(np.array([img]))\n",
        "print(prd)\n",
        "prelabel = np.argmax(prd, axis=1)\n",
        "\n",
        "if prelabel == 0:\n",
        "    print(\"\\033[1m\" + \"石原さとみに似ています\" + \"\\033[0m\")\n",
        "    img = mpimg.imread(\"石原さとみ.jpg\")\n",
        "    imgplot = plt.imshow(img)\n",
        "\n",
        "elif prelabel == 1:\n",
        "    print(\"\\033[1m\" + \"新垣結衣に似ています\" + \"\\033[0m\")\n",
        "    img = mpimg.imread(\"新垣結衣.jpg\")\n",
        "    imgplot = plt.imshow(img)\n",
        "\n",
        "elif prelabel == 2:\n",
        "    print(\"\\033[1m\" + \"北川景子に似ています\" + \"\\033[0m\")\n",
        "    img = mpimg.imread(\"北川景子.jpg\")\n",
        "    imgplot = plt.imshow(img)\n",
        "\n",
        "elif prelabel == 3:\n",
        "    print(\"\\033[1m\" + \"小松菜奈に似ています\" + \"\\033[0m\")\n",
        "    img = mpimg.imread(\"小松菜奈.jpg\")\n",
        "    imgplot = plt.imshow(img)"
      ],
      "metadata": {
        "id": "eeHSC6jThMhH"
      },
      "execution_count": null,
      "outputs": []
    }
  ]
}